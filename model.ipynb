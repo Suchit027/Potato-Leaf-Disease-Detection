{
 "cells": [
  {
   "cell_type": "code",
   "execution_count": 2,
   "id": "e2a88dd2",
   "metadata": {},
   "outputs": [],
   "source": [
    "import os\n",
    "import random\n",
    "import numpy as np\n",
    "import torch\n",
    "import torch.nn as nn\n",
    "import torch.optim as optim\n",
    "from torchvision import datasets, transforms, models\n",
    "from torch.utils.data import DataLoader, random_split, WeightedRandomSampler\n",
    "from sklearn.ensemble import RandomForestClassifier\n",
    "from sklearn.metrics import classification_report, confusion_matrix, accuracy_score, f1_score, precision_score, recall_score\n",
    "from PIL import Image\n",
    "from tqdm import tqdm\n",
    "import matplotlib.pyplot as plt"
   ]
  },
  {
   "cell_type": "code",
   "execution_count": 10,
   "id": "da353230",
   "metadata": {},
   "outputs": [
    {
     "name": "stdout",
     "output_type": "stream",
     "text": [
      "Using device: cuda\n",
      "Class distribution:\n",
      "Early_Blight: 1303 images\n",
      "Healthy: 816 images\n",
      "Late_Blight: 1132 images\n"
     ]
    },
    {
     "name": "stderr",
     "output_type": "stream",
     "text": [
      "d:\\Suchit\\Potato-Leaf-Disease-Detection\\venv\\Lib\\site-packages\\torchvision\\models\\_utils.py:208: UserWarning: The parameter 'pretrained' is deprecated since 0.13 and may be removed in the future, please use 'weights' instead.\n",
      "  warnings.warn(\n",
      "d:\\Suchit\\Potato-Leaf-Disease-Detection\\venv\\Lib\\site-packages\\torchvision\\models\\_utils.py:223: UserWarning: Arguments other than a weight enum or `None` for 'weights' are deprecated since 0.13 and may be removed in the future. The current behavior is equivalent to passing `weights=ResNet50_Weights.IMAGENET1K_V1`. You can also use `weights=ResNet50_Weights.DEFAULT` to get the most up-to-date weights.\n",
      "  warnings.warn(msg)\n",
      "Epoch 1/25: 100%|██████████| 102/102 [01:09<00:00,  1.46batch/s, Loss=0.403]\n"
     ]
    },
    {
     "name": "stdout",
     "output_type": "stream",
     "text": [
      "Epoch 1/25, Train Loss: 0.4034, Val Loss: 0.2147, Val Acc: 92.79%\n",
      "New best model saved with validation loss: 0.2147\n"
     ]
    },
    {
     "name": "stderr",
     "output_type": "stream",
     "text": [
      "Epoch 2/25: 100%|██████████| 102/102 [01:06<00:00,  1.53batch/s, Loss=0.225]\n"
     ]
    },
    {
     "name": "stdout",
     "output_type": "stream",
     "text": [
      "Epoch 2/25, Train Loss: 0.2246, Val Loss: 0.1767, Val Acc: 93.75%\n",
      "New best model saved with validation loss: 0.1767\n"
     ]
    },
    {
     "name": "stderr",
     "output_type": "stream",
     "text": [
      "Epoch 3/25: 100%|██████████| 102/102 [01:06<00:00,  1.53batch/s, Loss=0.194]\n"
     ]
    },
    {
     "name": "stdout",
     "output_type": "stream",
     "text": [
      "Epoch 3/25, Train Loss: 0.1937, Val Loss: 0.1423, Val Acc: 94.23%\n",
      "New best model saved with validation loss: 0.1423\n"
     ]
    },
    {
     "name": "stderr",
     "output_type": "stream",
     "text": [
      "Epoch 4/25: 100%|██████████| 102/102 [01:06<00:00,  1.53batch/s, Loss=0.177]\n"
     ]
    },
    {
     "name": "stdout",
     "output_type": "stream",
     "text": [
      "Epoch 4/25, Train Loss: 0.1767, Val Loss: 0.1063, Val Acc: 95.91%\n",
      "New best model saved with validation loss: 0.1063\n"
     ]
    },
    {
     "name": "stderr",
     "output_type": "stream",
     "text": [
      "Epoch 5/25: 100%|██████████| 102/102 [01:06<00:00,  1.53batch/s, Loss=0.152]\n"
     ]
    },
    {
     "name": "stdout",
     "output_type": "stream",
     "text": [
      "Epoch 5/25, Train Loss: 0.1524, Val Loss: 0.1342, Val Acc: 96.15%\n"
     ]
    },
    {
     "name": "stderr",
     "output_type": "stream",
     "text": [
      "Epoch 6/25: 100%|██████████| 102/102 [01:06<00:00,  1.53batch/s, Loss=0.156]\n"
     ]
    },
    {
     "name": "stdout",
     "output_type": "stream",
     "text": [
      "Epoch 6/25, Train Loss: 0.1561, Val Loss: 0.0980, Val Acc: 96.15%\n",
      "New best model saved with validation loss: 0.0980\n"
     ]
    },
    {
     "name": "stderr",
     "output_type": "stream",
     "text": [
      "Epoch 7/25: 100%|██████████| 102/102 [01:06<00:00,  1.53batch/s, Loss=0.138]\n"
     ]
    },
    {
     "name": "stdout",
     "output_type": "stream",
     "text": [
      "Epoch 7/25, Train Loss: 0.1377, Val Loss: 0.0986, Val Acc: 96.15%\n"
     ]
    },
    {
     "name": "stderr",
     "output_type": "stream",
     "text": [
      "Epoch 8/25: 100%|██████████| 102/102 [01:09<00:00,  1.46batch/s, Loss=0.138]\n"
     ]
    },
    {
     "name": "stdout",
     "output_type": "stream",
     "text": [
      "Epoch 8/25, Train Loss: 0.1382, Val Loss: 0.0739, Val Acc: 97.12%\n",
      "New best model saved with validation loss: 0.0739\n"
     ]
    },
    {
     "name": "stderr",
     "output_type": "stream",
     "text": [
      "Epoch 9/25: 100%|██████████| 102/102 [01:14<00:00,  1.36batch/s, Loss=0.153]\n"
     ]
    },
    {
     "name": "stdout",
     "output_type": "stream",
     "text": [
      "Epoch 9/25, Train Loss: 0.1532, Val Loss: 0.0914, Val Acc: 97.12%\n"
     ]
    },
    {
     "name": "stderr",
     "output_type": "stream",
     "text": [
      "Epoch 10/25: 100%|██████████| 102/102 [01:14<00:00,  1.37batch/s, Loss=0.137]\n"
     ]
    },
    {
     "name": "stdout",
     "output_type": "stream",
     "text": [
      "Epoch 10/25, Train Loss: 0.1368, Val Loss: 0.0957, Val Acc: 96.88%\n"
     ]
    },
    {
     "name": "stderr",
     "output_type": "stream",
     "text": [
      "Epoch 11/25: 100%|██████████| 102/102 [01:14<00:00,  1.38batch/s, Loss=0.115]\n"
     ]
    },
    {
     "name": "stdout",
     "output_type": "stream",
     "text": [
      "Epoch 11/25, Train Loss: 0.1148, Val Loss: 0.1275, Val Acc: 96.63%\n"
     ]
    },
    {
     "name": "stderr",
     "output_type": "stream",
     "text": [
      "Epoch 12/25: 100%|██████████| 102/102 [01:09<00:00,  1.48batch/s, Loss=0.105]\n"
     ]
    },
    {
     "name": "stdout",
     "output_type": "stream",
     "text": [
      "Epoch 12/25, Train Loss: 0.1045, Val Loss: 0.0910, Val Acc: 96.63%\n"
     ]
    },
    {
     "name": "stderr",
     "output_type": "stream",
     "text": [
      "Epoch 13/25: 100%|██████████| 102/102 [01:06<00:00,  1.52batch/s, Loss=0.0955]\n"
     ]
    },
    {
     "name": "stdout",
     "output_type": "stream",
     "text": [
      "Epoch 13/25, Train Loss: 0.0955, Val Loss: 0.0737, Val Acc: 97.60%\n",
      "New best model saved with validation loss: 0.0737\n"
     ]
    },
    {
     "name": "stderr",
     "output_type": "stream",
     "text": [
      "Epoch 14/25: 100%|██████████| 102/102 [01:13<00:00,  1.40batch/s, Loss=0.0746]\n"
     ]
    },
    {
     "name": "stdout",
     "output_type": "stream",
     "text": [
      "Epoch 14/25, Train Loss: 0.0746, Val Loss: 0.0940, Val Acc: 96.63%\n"
     ]
    },
    {
     "name": "stderr",
     "output_type": "stream",
     "text": [
      "Epoch 15/25: 100%|██████████| 102/102 [01:15<00:00,  1.36batch/s, Loss=0.0832]\n"
     ]
    },
    {
     "name": "stdout",
     "output_type": "stream",
     "text": [
      "Epoch 15/25, Train Loss: 0.0832, Val Loss: 0.1079, Val Acc: 95.43%\n"
     ]
    },
    {
     "name": "stderr",
     "output_type": "stream",
     "text": [
      "Epoch 16/25: 100%|██████████| 102/102 [01:15<00:00,  1.35batch/s, Loss=0.0829]\n"
     ]
    },
    {
     "name": "stdout",
     "output_type": "stream",
     "text": [
      "Epoch 16/25, Train Loss: 0.0829, Val Loss: 0.0621, Val Acc: 97.60%\n",
      "New best model saved with validation loss: 0.0621\n"
     ]
    },
    {
     "name": "stderr",
     "output_type": "stream",
     "text": [
      "Epoch 17/25: 100%|██████████| 102/102 [01:15<00:00,  1.35batch/s, Loss=0.0736]\n"
     ]
    },
    {
     "name": "stdout",
     "output_type": "stream",
     "text": [
      "Epoch 17/25, Train Loss: 0.0736, Val Loss: 0.0670, Val Acc: 97.12%\n"
     ]
    },
    {
     "name": "stderr",
     "output_type": "stream",
     "text": [
      "Epoch 18/25: 100%|██████████| 102/102 [01:15<00:00,  1.35batch/s, Loss=0.0771]\n"
     ]
    },
    {
     "name": "stdout",
     "output_type": "stream",
     "text": [
      "Epoch 18/25, Train Loss: 0.0771, Val Loss: 0.0556, Val Acc: 97.12%\n",
      "New best model saved with validation loss: 0.0556\n"
     ]
    },
    {
     "name": "stderr",
     "output_type": "stream",
     "text": [
      "Epoch 19/25: 100%|██████████| 102/102 [01:24<00:00,  1.21batch/s, Loss=0.0874]\n"
     ]
    },
    {
     "name": "stdout",
     "output_type": "stream",
     "text": [
      "Epoch 19/25, Train Loss: 0.0874, Val Loss: 0.0596, Val Acc: 97.60%\n"
     ]
    },
    {
     "name": "stderr",
     "output_type": "stream",
     "text": [
      "Epoch 20/25: 100%|██████████| 102/102 [01:25<00:00,  1.20batch/s, Loss=0.0689]\n"
     ]
    },
    {
     "name": "stdout",
     "output_type": "stream",
     "text": [
      "Epoch 20/25, Train Loss: 0.0689, Val Loss: 0.0750, Val Acc: 97.12%\n"
     ]
    },
    {
     "name": "stderr",
     "output_type": "stream",
     "text": [
      "Epoch 21/25: 100%|██████████| 102/102 [01:24<00:00,  1.20batch/s, Loss=0.0851]\n"
     ]
    },
    {
     "name": "stdout",
     "output_type": "stream",
     "text": [
      "Epoch 21/25, Train Loss: 0.0851, Val Loss: 0.0770, Val Acc: 97.60%\n"
     ]
    },
    {
     "name": "stderr",
     "output_type": "stream",
     "text": [
      "Epoch 22/25: 100%|██████████| 102/102 [01:24<00:00,  1.21batch/s, Loss=0.0614]\n"
     ]
    },
    {
     "name": "stdout",
     "output_type": "stream",
     "text": [
      "Epoch 22/25, Train Loss: 0.0614, Val Loss: 0.0526, Val Acc: 98.08%\n",
      "New best model saved with validation loss: 0.0526\n"
     ]
    },
    {
     "name": "stderr",
     "output_type": "stream",
     "text": [
      "Epoch 23/25: 100%|██████████| 102/102 [01:24<00:00,  1.20batch/s, Loss=0.0645]\n"
     ]
    },
    {
     "name": "stdout",
     "output_type": "stream",
     "text": [
      "Epoch 23/25, Train Loss: 0.0645, Val Loss: 0.0573, Val Acc: 98.08%\n"
     ]
    },
    {
     "name": "stderr",
     "output_type": "stream",
     "text": [
      "Epoch 24/25: 100%|██████████| 102/102 [01:24<00:00,  1.21batch/s, Loss=0.0768]\n"
     ]
    },
    {
     "name": "stdout",
     "output_type": "stream",
     "text": [
      "Epoch 24/25, Train Loss: 0.0768, Val Loss: 0.0777, Val Acc: 96.88%\n"
     ]
    },
    {
     "name": "stderr",
     "output_type": "stream",
     "text": [
      "Epoch 25/25: 100%|██████████| 102/102 [01:24<00:00,  1.20batch/s, Loss=0.0701]\n"
     ]
    },
    {
     "name": "stdout",
     "output_type": "stream",
     "text": [
      "Epoch 25/25, Train Loss: 0.0701, Val Loss: 0.0612, Val Acc: 97.36%\n"
     ]
    },
    {
     "data": {
      "image/png": "[encoded data removed]",
      "text/plain": [
       "<Figure size 1200x400 with 2 Axes>"
      ]
     },
     "metadata": {},
     "output_type": "display_data"
    },
    {
     "name": "stdout",
     "output_type": "stream",
     "text": [
      "Extracting features for Random Forest training...\n"
     ]
    },
    {
     "name": "stderr",
     "output_type": "stream",
     "text": [
      "Processing training data: 100%|██████████| 102/102 [01:08<00:00,  1.49it/s]\n"
     ]
    },
    {
     "name": "stdout",
     "output_type": "stream",
     "text": [
      "Training Random Forest classifier...\n",
      "Extracting features for validation...\n"
     ]
    },
    {
     "name": "stderr",
     "output_type": "stream",
     "text": [
      "Processing validation data: 100%|██████████| 13/13 [00:02<00:00,  4.34it/s]\n"
     ]
    },
    {
     "name": "stdout",
     "output_type": "stream",
     "text": [
      "\n",
      "Random Forest Model Performance:\n",
      "Accuracy: 0.9663\n",
      "Precision: 0.9672\n",
      "Recall: 0.9663\n",
      "F1 Score: 0.9662\n"
     ]
    },
    {
     "data": {
      "image/png": "[encoded data removed]",
      "text/plain": [
       "<Figure size 1000x800 with 2 Axes>"
      ]
     },
     "metadata": {},
     "output_type": "display_data"
    }
   ],
   "source": [
    "# Paths and Parameters\n",
    "img_height, img_width = 224, 224\n",
    "batch_size = 32\n",
    "num_epochs = 25  # Increased from 20\n",
    "device = torch.device(\"cuda\" if torch.cuda.is_available() else \"cpu\")\n",
    "print(f\"Using device: {device}\")\n",
    "\n",
    "# Enhanced Data Transforms with Augmentation\n",
    "train_transforms = transforms.Compose([\n",
    "    transforms.Resize((img_height, img_width)),\n",
    "    transforms.RandomHorizontalFlip(),\n",
    "    transforms.RandomVerticalFlip(),\n",
    "    transforms.RandomRotation(20),\n",
    "    transforms.ColorJitter(brightness=0.1, contrast=0.1, saturation=0.1, hue=0.1),\n",
    "    transforms.ToTensor(),\n",
    "    transforms.Normalize([0.485, 0.456, 0.406], [0.229, 0.224, 0.225])\n",
    "])\n",
    "\n",
    "val_transforms = transforms.Compose([\n",
    "    transforms.Resize((img_height, img_width)),\n",
    "    transforms.ToTensor(),\n",
    "    transforms.Normalize([0.485, 0.456, 0.406], [0.229, 0.224, 0.225])\n",
    "])\n",
    "\n",
    "# Load Dataset with class-balanced sampling\n",
    "full_dataset = datasets.ImageFolder('./potato/Training', transform=None)\n",
    "\n",
    "# Check class distribution\n",
    "class_counts = [0] * len(full_dataset.classes)\n",
    "for _, class_idx in full_dataset.samples:\n",
    "    class_counts[class_idx] += 1\n",
    "\n",
    "print(\"Class distribution:\")\n",
    "for i, count in enumerate(class_counts):\n",
    "    print(f\"{full_dataset.classes[i]}: {count} images\")\n",
    "\n",
    "# Create the datasets with custom transforms\n",
    "train_dataset = datasets.ImageFolder('./potato/Training', transform=train_transforms)\n",
    "val_dataset = datasets.ImageFolder('./potato/Validation', transform=val_transforms)\n",
    "\n",
    "# Create data loaders\n",
    "train_loader = DataLoader(train_dataset, batch_size=batch_size, shuffle = True)\n",
    "val_loader = DataLoader(val_dataset, batch_size=batch_size, shuffle=False)\n",
    "\n",
    "# Load ResNet50\n",
    "resnet50 = models.resnet50(pretrained=True)\n",
    "\n",
    "# Freeze all layers except the last 10\n",
    "for name, param in list(resnet50.named_parameters())[:-10]:\n",
    "    param.requires_grad = False\n",
    "\n",
    "# Replace fully connected layer with Identity for feature extraction\n",
    "resnet50.fc = nn.Identity()\n",
    "resnet50 = resnet50.to(device)\n",
    "\n",
    "class TomatoDiseaseCNN(nn.Module):\n",
    "    def __init__(self, num_classes):\n",
    "        super(TomatoDiseaseCNN, self).__init__()\n",
    "        self.features = nn.Sequential(\n",
    "            nn.Conv2d(2048, 1024, kernel_size=3, stride=1, padding=1),\n",
    "            nn.BatchNorm2d(1024),\n",
    "            nn.ReLU(),\n",
    "            nn.Dropout2d(0.2),\n",
    "\n",
    "            nn.Conv2d(1024, 512, kernel_size=3, stride=2, padding=1),\n",
    "            nn.BatchNorm2d(512),\n",
    "            nn.ReLU(),\n",
    "            nn.Dropout2d(0.2),\n",
    "\n",
    "            nn.Conv2d(512, 256, kernel_size=3, stride=2, padding=1),\n",
    "            nn.BatchNorm2d(256),\n",
    "            nn.ReLU(),\n",
    "            nn.Dropout2d(0.2),\n",
    "\n",
    "            nn.Conv2d(256, 128, kernel_size=3, stride=2, padding=1),\n",
    "            nn.BatchNorm2d(128),\n",
    "            nn.ReLU(),\n",
    "            nn.Dropout2d(0.2),\n",
    "\n",
    "            nn.Conv2d(128, 64, kernel_size=3, stride=1, padding=1),\n",
    "            nn.BatchNorm2d(64),\n",
    "            nn.ReLU(),\n",
    "            nn.Dropout2d(0.2),\n",
    "\n",
    "            nn.AdaptiveAvgPool2d((1, 1))\n",
    "        )\n",
    "        self.classifier = nn.Sequential(\n",
    "            nn.Flatten(),\n",
    "            nn.Linear(64, 64),\n",
    "            nn.ReLU(),\n",
    "            nn.Dropout(0.3),\n",
    "            nn.Linear(64, num_classes)\n",
    "        )\n",
    "    \n",
    "    def forward(self, x):\n",
    "        x = self.features(x)\n",
    "        x = self.classifier(x)\n",
    "        return x\n",
    "\n",
    "\n",
    "# Combine ResNet50 and Custom CNN\n",
    "class ResNet50WithCNN(nn.Module):\n",
    "    def __init__(self, resnet, custom_cnn):\n",
    "        super(ResNet50WithCNN, self).__init__()\n",
    "        self.resnet = resnet\n",
    "        self.cnn = custom_cnn\n",
    "    \n",
    "    def forward(self, x):\n",
    "        x = self.resnet(x)  # Extract features using ResNet50\n",
    "        x = x.view(x.size(0), 2048, 1, 1)  # Reshape to [batch_size, 2048, 1, 1]\n",
    "        x = x.expand(-1, 2048, 7, 7)  # Match dimensions for the CNN input\n",
    "        x = self.cnn(x)  # Pass to custom CNN\n",
    "        return x\n",
    "\n",
    "# Initialize Models\n",
    "num_classes = len(full_dataset.classes)\n",
    "custom_cnn = TomatoDiseaseCNN(num_classes).to(device)\n",
    "model = ResNet50WithCNN(resnet50, custom_cnn).to(device)\n",
    "\n",
    "# Loss and Optimizer with learning rate scheduler\n",
    "weights = torch.tensor([1.0 / count for count in class_counts], device=device)\n",
    "criterion = nn.CrossEntropyLoss(weight=weights)\n",
    "optimizer = optim.AdamW([\n",
    "    {'params': resnet50.parameters(), 'lr': 0.0001},\n",
    "    {'params': custom_cnn.parameters(), 'lr': 0.001}\n",
    "], weight_decay=1e-4)\n",
    "scheduler = optim.lr_scheduler.ReduceLROnPlateau(optimizer, mode='min', factor=0.5, patience=3)\n",
    "\n",
    "# Training Loop with Validation and Early Stopping\n",
    "best_val_loss = float('inf')\n",
    "patience = 5\n",
    "patience_counter = 0\n",
    "best_model_state = None\n",
    "history = {'train_loss': [], 'val_loss': [], 'val_acc': []}\n",
    "\n",
    "for epoch in range(num_epochs):\n",
    "    # Training phase\n",
    "    model.train()\n",
    "    running_loss = 0.0\n",
    "    \n",
    "    with tqdm(train_loader, desc=f\"Epoch {epoch+1}/{num_epochs}\", unit=\"batch\") as pbar:\n",
    "        for inputs, labels in pbar:\n",
    "            inputs, labels = inputs.to(device), labels.to(device)\n",
    "            \n",
    "            optimizer.zero_grad()\n",
    "            outputs = model(inputs)\n",
    "            loss = criterion(outputs, labels)\n",
    "            loss.backward()\n",
    "            optimizer.step()\n",
    "            \n",
    "            running_loss += loss.item()\n",
    "            pbar.set_postfix({\"Loss\": running_loss / (pbar.n + 1)})\n",
    "    \n",
    "    train_loss = running_loss / len(train_loader)\n",
    "    history['train_loss'].append(train_loss)\n",
    "    \n",
    "    # Validation phase\n",
    "    model.eval()\n",
    "    val_loss = 0.0\n",
    "    correct = 0\n",
    "    total = 0\n",
    "    \n",
    "    with torch.no_grad():\n",
    "        for inputs, labels in val_loader:\n",
    "            inputs, labels = inputs.to(device), labels.to(device)\n",
    "            outputs = model(inputs)\n",
    "            loss = criterion(outputs, labels)\n",
    "            val_loss += loss.item()\n",
    "            \n",
    "            _, predicted = torch.max(outputs.data, 1)\n",
    "            total += labels.size(0)\n",
    "            correct += (predicted == labels).sum().item()\n",
    "    \n",
    "    val_loss = val_loss / len(val_loader)\n",
    "    val_acc = 100 * correct / total\n",
    "    history['val_loss'].append(val_loss)\n",
    "    history['val_acc'].append(val_acc)\n",
    "    \n",
    "    print(f\"Epoch {epoch+1}/{num_epochs}, \"\n",
    "          f\"Train Loss: {train_loss:.4f}, \"\n",
    "          f\"Val Loss: {val_loss:.4f}, \"\n",
    "          f\"Val Acc: {val_acc:.2f}%\")\n",
    "    \n",
    "    # Learning rate scheduler\n",
    "    scheduler.step(val_loss)\n",
    "    \n",
    "    # Early stopping check\n",
    "    if val_loss < best_val_loss:\n",
    "        best_val_loss = val_loss\n",
    "        patience_counter = 0\n",
    "        best_model_state = {\n",
    "            'resnet': resnet50.state_dict(),\n",
    "            'cnn': custom_cnn.state_dict()\n",
    "        }\n",
    "        print(f\"New best model saved with validation loss: {best_val_loss:.4f}\")\n",
    "    else:\n",
    "        patience_counter += 1\n",
    "        if patience_counter >= patience:\n",
    "            print(f\"Early stopping triggered after {epoch+1} epochs\")\n",
    "            break\n",
    "\n",
    "# Load the best model\n",
    "if best_model_state is not None:\n",
    "    resnet50.load_state_dict(best_model_state['resnet'])\n",
    "    custom_cnn.load_state_dict(best_model_state['cnn'])\n",
    "    model = ResNet50WithCNN(resnet50, custom_cnn).to(device)\n",
    "\n",
    "# Plot training history\n",
    "plt.figure(figsize=(12, 4))\n",
    "plt.subplot(1, 2, 1)\n",
    "plt.plot(history['train_loss'], label='Train Loss')\n",
    "plt.plot(history['val_loss'], label='Validation Loss')\n",
    "plt.xlabel('Epoch')\n",
    "plt.ylabel('Loss')\n",
    "plt.legend()\n",
    "\n",
    "plt.subplot(1, 2, 2)\n",
    "plt.plot(history['val_acc'], label='Validation Accuracy')\n",
    "plt.xlabel('Epoch')\n",
    "plt.ylabel('Accuracy (%)')\n",
    "plt.legend()\n",
    "plt.tight_layout()\n",
    "plt.savefig('training_history.png')\n",
    "plt.show()\n",
    "\n",
    "# Extract Features for Random Forest\n",
    "features = []\n",
    "labels = []\n",
    "model.eval()\n",
    "\n",
    "print(\"Extracting features for Random Forest training...\")\n",
    "with torch.no_grad():\n",
    "    for inputs, label in tqdm(train_loader, desc=\"Processing training data\"):\n",
    "        inputs = inputs.to(device)\n",
    "        feature = model(inputs).cpu().numpy()\n",
    "        features.extend(feature)\n",
    "        labels.extend(label.numpy())\n",
    "\n",
    "# Train Random Forest with optimized hyperparameters\n",
    "print(\"Training Random Forest classifier...\")\n",
    "rf = RandomForestClassifier(\n",
    "    n_estimators=200,\n",
    "    max_depth=None,\n",
    "    min_samples_split=2,\n",
    "    min_samples_leaf=1,\n",
    "    max_features='sqrt',\n",
    "    bootstrap=True,\n",
    "    class_weight='balanced',\n",
    "    random_state=42\n",
    ")\n",
    "rf.fit(features, labels)\n",
    "\n",
    "# Validate Random Forest\n",
    "val_features = []\n",
    "val_labels = []\n",
    "print(\"Extracting features for validation...\")\n",
    "with torch.no_grad():\n",
    "    for inputs, label in tqdm(val_loader, desc=\"Processing validation data\"):\n",
    "        inputs = inputs.to(device)\n",
    "        feature = model(inputs).cpu().numpy()\n",
    "        val_features.extend(feature)\n",
    "        val_labels.extend(label.numpy())\n",
    "\n",
    "rf_predictions = rf.predict(val_features)\n",
    "\n",
    "# Calculate metrics\n",
    "accuracy = accuracy_score(val_labels, rf_predictions)\n",
    "precision = precision_score(val_labels, rf_predictions, average='weighted')\n",
    "recall = recall_score(val_labels, rf_predictions, average='weighted')\n",
    "f1 = f1_score(val_labels, rf_predictions, average='weighted')\n",
    "\n",
    "print(\"\\nRandom Forest Model Performance:\")\n",
    "print(f\"Accuracy: {accuracy:.4f}\")\n",
    "print(f\"Precision: {precision:.4f}\")\n",
    "print(f\"Recall: {recall:.4f}\")\n",
    "print(f\"F1 Score: {f1:.4f}\")\n",
    "\n",
    "# Display confusion matrix\n",
    "conf_matrix = confusion_matrix(val_labels, rf_predictions)\n",
    "plt.figure(figsize=(10, 8))\n",
    "plt.imshow(conf_matrix, interpolation='nearest', cmap=plt.cm.Blues)\n",
    "plt.title('Confusion Matrix')\n",
    "plt.colorbar()\n",
    "\n",
    "class_names = full_dataset.classes\n",
    "tick_marks = np.arange(len(class_names))\n",
    "plt.xticks(tick_marks, class_names, rotation=90)\n",
    "plt.yticks(tick_marks, class_names)\n",
    "\n",
    "plt.ylabel('True Label')\n",
    "plt.xlabel('Predicted Label')\n",
    "plt.tight_layout()\n",
    "plt.savefig('confusion_matrix.png')\n",
    "plt.show()\n",
    "\n",
    "# Save the complete model (ResNet50 + CNN + RandomForest)\n",
    "models_to_save = {\n",
    "    'resnet_state_dict': resnet50.state_dict(),\n",
    "    'cnn_state_dict': custom_cnn.state_dict(),\n",
    "    'rf_model': rf,\n",
    "    'class_names': full_dataset.classes\n",
    "}\n",
    "torch.save(models_to_save, 'potato_disease_model_combined.pth')"
   ]
  },
  {
   "cell_type": "code",
   "execution_count": 11,
   "id": "dec3da10",
   "metadata": {},
   "outputs": [
    {
     "name": "stdout",
     "output_type": "stream",
     "text": [
      "final model evaluation metrics\n",
      "0.980246913580247\n",
      "0.980246913580247\n",
      "0.9801794042543809\n",
      "0.9804961009980658\n"
     ]
    }
   ],
   "source": [
    "print('final model evaluation metrics')\n",
    "test_data = datasets.ImageFolder('./potato/Testing', transform= val_transforms)\n",
    "test_loader = DataLoader(test_data, batch_size= batch_size, shuffle= False)\n",
    "all_preds, all_labels = [], []\n",
    "model.eval()\n",
    "with torch.no_grad():\n",
    "    for inputs, labels in test_loader:\n",
    "        inputs, labels = inputs.to(device), labels.to(device)\n",
    "        outputs = model(inputs)\n",
    "        val, ind = torch.max(outputs, dim = 1)\n",
    "        all_preds.extend(ind.to('cpu'))\n",
    "        all_labels.extend(labels.to('cpu'))\n",
    "from sklearn.metrics import  accuracy_score, recall_score, f1_score, precision_score\n",
    "print(accuracy_score(all_preds, all_labels))\n",
    "print(recall_score(all_preds, all_labels, average= 'weighted'))\n",
    "print(f1_score(all_preds, all_labels, average= 'weighted'))\n",
    "print(precision_score(all_preds, all_labels, average= 'weighted'))"
   ]
  },
  {
   "cell_type": "code",
   "execution_count": null,
   "id": "d86d6d8d",
   "metadata": {},
   "outputs": [],
   "source": []
  }
 ],
 "metadata": {
  "kernelspec": {
   "display_name": "venv",
   "language": "python",
   "name": "python3"
  },
  "language_info": {
   "codemirror_mode": {
    "name": "ipython",
    "version": 3
   },
   "file_extension": ".py",
   "mimetype": "text/x-python",
   "name": "python",
   "nbconvert_exporter": "python",
   "pygments_lexer": "ipython3",
   "version": "3.13.2"
  }
 },
 "nbformat": 4,
 "nbformat_minor": 5
}
